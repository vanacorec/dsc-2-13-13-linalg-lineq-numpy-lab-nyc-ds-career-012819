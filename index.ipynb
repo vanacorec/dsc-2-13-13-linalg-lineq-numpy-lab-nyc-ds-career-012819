{
 "cells": [
  {
   "cell_type": "markdown",
   "metadata": {},
   "source": [
    "# Solving Systems of Linear Equations with NumPy - Lab\n",
    "\n",
    "## Introduction \n",
    "\n",
    "Now we have gathered all the required skills needed to solve systems of linear equations. We saw why need to calculate inverses of matrices, followed by matrix multiplication to figure the values of unknown variables. \n",
    "\n",
    "Following exercises present some problems that can be converted into a system of linear equations. Solve the problems for the values of unknown variables. \n",
    "\n",
    "## Objectives\n",
    "You will be able to:\n",
    "\n",
    "* Build a system of equations from given problem by creating matrix and vectors in NumPy\n",
    "* Calculate the inverse and dot-product to get the values for unknown variables.\n",
    "* Solve linear equations using `numpy.linalg.solve()`"
   ]
  },
  {
   "cell_type": "markdown",
   "metadata": {},
   "source": [
    "## Exercise 1\n",
    "\n",
    "A coffee shop is having a sale on coffee and tea. \n",
    "\n",
    "On day 1, 29 bags of coffee and 41 bags of tea was sold, giving a total of 490 dollars.\n",
    "\n",
    "On day 2, they sold 23 bags of coffee and 41 bags of tea, for which customers paid a total of 448 dollars.  \n",
    "\n",
    "How much does each bag cost?"
   ]
  },
  {
   "cell_type": "code",
   "execution_count": 1,
   "metadata": {},
   "outputs": [
    {
     "name": "stdout",
     "output_type": "stream",
     "text": [
      "[[7.]\n",
      " [7.]]\n"
     ]
    },
    {
     "data": {
      "text/plain": [
       "matrix([[7.],\n",
       "        [7.]])"
      ]
     },
     "execution_count": 1,
     "metadata": {},
     "output_type": "execute_result"
    }
   ],
   "source": [
    "# Solution:\n",
    "\n",
    "# Create Equations:\n",
    "\n",
    "# Let x be the price of a bag of coffee and y be the price of a bag of tea. \n",
    "\n",
    "# 29x + 41y = 490\n",
    "\n",
    "# 23x + 41y = 448\n",
    "\n",
    "#  Create numpy matrices from above equations\n",
    "import numpy as np\n",
    "A = np.matrix([[29,41], [23,41]])\n",
    "B = np.matrix([[490,448]])\n",
    "\n",
    "# Calculate inverse of A and take the dot product\n",
    "A_inv = np.linalg.inv(A)\n",
    "X = A_inv.dot(B.T)\n",
    "print (X)\n",
    "\n",
    "# Verify the answer linalg.solve()\n",
    "np.linalg.solve(A,B.T)\n"
   ]
  },
  {
   "cell_type": "code",
   "execution_count": 4,
   "metadata": {},
   "outputs": [],
   "source": [
    "# Explain your answer in terms of prices\n",
    "# bag of coffee = $7 , bag of tea = $7\n"
   ]
  },
  {
   "cell_type": "markdown",
   "metadata": {},
   "source": [
    "## Exercise 2:\n",
    "\n",
    "The cost of admission to a popular music concert was 162 dollars for 12 children and 3 adults. \n",
    "\n",
    "The admission was 122 dollars for 8 children and 3 adults in another music concert. \n",
    "\n",
    "How much was the admission for each child and adult?"
   ]
  },
  {
   "cell_type": "code",
   "execution_count": 2,
   "metadata": {},
   "outputs": [
    {
     "name": "stdout",
     "output_type": "stream",
     "text": [
      "[[10.]\n",
      " [14.]]\n"
     ]
    },
    {
     "data": {
      "text/plain": [
       "matrix([[10.],\n",
       "        [14.]])"
      ]
     },
     "execution_count": 2,
     "metadata": {},
     "output_type": "execute_result"
    }
   ],
   "source": [
    "# Create a system of equations\n",
    "\n",
    "# Let x be the price per child and y be the price per adult\n",
    "\n",
    "# 12x + 3y = 162 \n",
    "# \n",
    "# 8x + 3y = 122 \n",
    "\n",
    "# Create matrices in numpy \n",
    "A = np.matrix([[12,3],[8,3]])\n",
    "B = np.matrix([162,122])\n",
    "\n",
    "# Calculate inverse of A and take the dot product\n",
    "A_inv = np.linalg.inv(A)\n",
    "X = A_inv.dot(B.T)\n",
    "print (X)\n",
    "\n",
    "# Verify the answer linalg.solve()\n",
    "np.linalg.solve(A,B.T)"
   ]
  },
  {
   "cell_type": "code",
   "execution_count": 3,
   "metadata": {},
   "outputs": [],
   "source": [
    "# Describe your result\n",
    "# price per child = $10, price per adult = $14"
   ]
  },
  {
   "cell_type": "markdown",
   "metadata": {},
   "source": [
    "## Exercise 3:\n",
    "\n",
    "You want to make a certain kind of tropical punch, using bananas, oranges, and papayas. \n",
    "\n",
    "Suppose you don't know how many of each to put in the punch, but you know that there are seven pieces of fruit in the mix, and there are twice as many oranges as bananas. \n",
    "\n",
    "You also know that the seven pieces of fruit cost \\$5.25, \n",
    "\n",
    "where bananas cost \\$.50 each, oranges cost \\$.75 each, and papayas cost \\$1.25 each.\n",
    "\n",
    "How many bananas, oranges and papayas would you need to make this punch ?"
   ]
  },
  {
   "cell_type": "code",
   "execution_count": 5,
   "metadata": {},
   "outputs": [
    {
     "name": "stdout",
     "output_type": "stream",
     "text": [
      "[[2.]\n",
      " [4.]\n",
      " [1.]]\n"
     ]
    },
    {
     "data": {
      "text/plain": [
       "matrix([[2.],\n",
       "        [4.],\n",
       "        [1.]])"
      ]
     },
     "execution_count": 5,
     "metadata": {},
     "output_type": "execute_result"
    }
   ],
   "source": [
    "# Create a system of equations\n",
    "\n",
    "# Let b represent bananas, o - oranges and p - papayas. \n",
    "\n",
    "# b + o + p = 7\n",
    "\n",
    "# .5b + .75o + 1.25p = 5.25\n",
    "\n",
    "# -2b + o + 0p = 0\n",
    "\n",
    "# Create matrices in numpy \n",
    "A = np.matrix([[1,1,1],[0.5, 0.75, 1.25], [-2,1,0]])\n",
    "B = np.matrix([[7, 5.25, 0]])\n",
    "\n",
    "# Calculate inverse of A and take the dot product\n",
    "A_inv = np.linalg.inv(A)\n",
    "X = A_inv.dot(B.T)\n",
    "print (X)\n",
    "\n",
    "# Verify the answer linalg.solve()\n",
    "np.linalg.solve(A,B.T)\n",
    "\n"
   ]
  },
  {
   "cell_type": "code",
   "execution_count": 2,
   "metadata": {},
   "outputs": [],
   "source": [
    "# Explain your answer\n",
    "\n",
    "# bananas = 2, oranges = 4, papapayas = 1 , needed to make the punch\n"
   ]
  },
  {
   "cell_type": "markdown",
   "metadata": {},
   "source": [
    "## Exercise 4\n",
    "\n",
    "A landlord owns 3 houses, a 1-bedroom, a 2-bedroom , and a 3-bedroom house. \n",
    "\n",
    "The total rent he receives is 1240 dollars. \n",
    "\n",
    "He needs to make some repairs, where it costs 10% of the 1-bedroom house’s rent for its repairs, 20% of the 2-bedroom for its repairs, and 30% of the 3-bedroom house's rent for its repairs.  The total repair bill for all three houses was $276. \n",
    "\n",
    "The 3-bedroom house's rent is twice the 1-bedroom house’s rent. \n",
    "\n",
    "How much is the individual rent for three houses?"
   ]
  },
  {
   "cell_type": "code",
   "execution_count": 6,
   "metadata": {},
   "outputs": [
    {
     "name": "stdout",
     "output_type": "stream",
     "text": [
      "[[280.]\n",
      " [400.]\n",
      " [560.]]\n"
     ]
    },
    {
     "data": {
      "text/plain": [
       "matrix([[280.],\n",
       "        [400.],\n",
       "        [560.]])"
      ]
     },
     "execution_count": 6,
     "metadata": {},
     "output_type": "execute_result"
    }
   ],
   "source": [
    "# Create a system of equations\n",
    "\n",
    "# Let x,y,z represent rent value for house 1,2 and 3 respectively\n",
    "\n",
    "# x + y + z = 1240\n",
    "\n",
    "# .1x + .2y + .3z = 276\n",
    "\n",
    "# 2x +0y -z = 0\n",
    "\n",
    "# Create matrices in numpy \n",
    "A = np.matrix([[1,1,1],[0.1, 0.2, 0.3], [2,0,-1]])\n",
    "B = np.matrix([[1240, 276, 0]])\n",
    "\n",
    "# Calculate inverse of A and take the dot product\n",
    "A_inv = np.linalg.inv(A)\n",
    "X = A_inv.dot(B.T)\n",
    "print (X)\n",
    "\n",
    "# Verify the answer linalg.solve()\n",
    "np.linalg.solve(A,B.T)\n"
   ]
  },
  {
   "cell_type": "code",
   "execution_count": 11,
   "metadata": {},
   "outputs": [],
   "source": [
    "# Explain your answer\n"
   ]
  },
  {
   "cell_type": "markdown",
   "metadata": {},
   "source": [
    "## Summary\n",
    "In this lab, we saw how to use Numpy to solve linear equations by taking inverses and matrix multiplication and also using numpy's `.solve()`. We shall now take these skills forward and see how we can define a simple regression problem using linear algebra and solve it with numpy, only using the skills that we have learnt so far. "
   ]
  }
 ],
 "metadata": {
  "kernelspec": {
   "display_name": "Python 3",
   "language": "python",
   "name": "python3"
  },
  "language_info": {
   "codemirror_mode": {
    "name": "ipython",
    "version": 3
   },
   "file_extension": ".py",
   "mimetype": "text/x-python",
   "name": "python",
   "nbconvert_exporter": "python",
   "pygments_lexer": "ipython3",
   "version": "3.6.6"
  }
 },
 "nbformat": 4,
 "nbformat_minor": 2
}
